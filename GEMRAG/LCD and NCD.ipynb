{
 "cells": [
  {
   "cell_type": "code",
   "execution_count": 0,
   "metadata": {
    "application/vnd.databricks.v1+cell": {
     "cellMetadata": {
      "byteLimit": 2048000,
      "rowLimit": 10000
     },
     "inputWidgets": {},
     "nuid": "617e928f-1294-4af5-9264-fba623d1371c",
     "showTitle": false,
     "tableResultSettingsMap": {},
     "title": ""
    }
   },
   "outputs": [],
   "source": [
    "%pip install lxml html5lib beautifulsoup4 pypdf weasyprint\n",
    "%restart_python"
   ]
  },
  {
   "cell_type": "code",
   "execution_count": 0,
   "metadata": {
    "application/vnd.databricks.v1+cell": {
     "cellMetadata": {
      "byteLimit": 2048000,
      "rowLimit": 10000
     },
     "inputWidgets": {},
     "nuid": "93365233-971b-4a19-b8c3-be85b436d12b",
     "showTitle": false,
     "tableResultSettingsMap": {},
     "title": ""
    }
   },
   "outputs": [],
   "source": [
    "import pickle\n",
    "import pandas as pd\n",
    "import html\n",
    "from bs4 import BeautifulSoup\n",
    "from pypdf import PdfReader, PdfWriter\n",
    "import os\n",
    "from io import BytesIO\n",
    "from weasyprint import HTML\n",
    "from weasyprint.document import DocumentMetadata\n",
    "from datetime import datetime, timezone, timedelta"
   ]
  },
  {
   "cell_type": "code",
   "execution_count": 0,
   "metadata": {
    "application/vnd.databricks.v1+cell": {
     "cellMetadata": {
      "byteLimit": 2048000,
      "rowLimit": 10000
     },
     "inputWidgets": {},
     "nuid": "6f6ce9c6-f100-4dab-833c-e7dc1b615295",
     "showTitle": false,
     "tableResultSettingsMap": {},
     "title": ""
    }
   },
   "outputs": [],
   "source": [
    "# Move a directory and its contents\n",
    "# dbutils.fs.mv(\n",
    "#     \"dbfs:/Volumes/sandbox_catalog/default/globaledit-policy-docs/medicare-coverage-database/\",\n",
    "#     \"dbfs:/Volumes/sandbox_catalog/default/non-pdf-policy-docs/medicare-coverage-database/\",\n",
    "#     recurse=True\n",
    "# )\n"
   ]
  },
  {
   "cell_type": "code",
   "execution_count": 0,
   "metadata": {
    "application/vnd.databricks.v1+cell": {
     "cellMetadata": {
      "byteLimit": 2048000,
      "rowLimit": 10000
     },
     "inputWidgets": {},
     "nuid": "0403d6b7-ee81-4741-8eb3-9a50bff24d77",
     "showTitle": false,
     "tableResultSettingsMap": {},
     "title": ""
    }
   },
   "outputs": [],
   "source": [
    "LCD_PKL_PATH=\"/Volumes/sandbox_catalog/default/non-pdf-policy-docs/medicare-coverage-database/lcd.pkl\"\n",
    "LCD_HTML_PATH=\"/Volumes/sandbox_catalog/default/non-pdf-policy-docs/medicare-coverage-database/lcds\"\n",
    "LCD_PDF_PATH=\"/Volumes/sandbox_catalog/default/globaledit-policy-docs/lcd\"\n",
    "\n",
    "LCD_ARTICLES_PKL_PATH=\"/Volumes/sandbox_catalog/default/non-pdf-policy-docs/medicare-coverage-database/lcd_articles.pkl\"\n",
    "LCD_ARTICLES_HTML_PATH=\"/Volumes/sandbox_catalog/default/non-pdf-policy-docs/medicare-coverage-database/lcd-articles\"\n",
    "LCD_ARTICLES_PDF_PATH=\"/Volumes/sandbox_catalog/default/globaledit-policy-docs/lcd-articles\"\n",
    "\n",
    "NCD_METADATA_PKL_PATH=\"/Volumes/sandbox_catalog/default/non-pdf-policy-docs/medicare-coverage-database/ncd_metadata.pkl\"\n",
    "NCD_CSV_PATH=\"/Volumes/sandbox_catalog/default/non-pdf-policy-docs/medicare-coverage-database/ncds/ncds.csv\"\n",
    "NCD_PDF_PATH=\"/Volumes/sandbox_catalog/default/globaledit-policy-docs/ncd\""
   ]
  },
  {
   "cell_type": "code",
   "execution_count": 0,
   "metadata": {
    "application/vnd.databricks.v1+cell": {
     "cellMetadata": {
      "byteLimit": 2048000,
      "rowLimit": 10000
     },
     "inputWidgets": {},
     "nuid": "0159de4d-6cc2-41f8-b50c-606bd3f3f010",
     "showTitle": false,
     "tableResultSettingsMap": {},
     "title": ""
    }
   },
   "outputs": [],
   "source": [
    "file = open(LCD_PKL_PATH, 'rb')\n",
    "lcd = pickle.load(file)\n",
    "file.close()\n",
    "\n",
    "file = open(LCD_ARTICLES_PKL_PATH, 'rb')\n",
    "lcd_articles = pickle.load(file)\n",
    "file.close()\n",
    "\n",
    "file = open(NCD_METADATA_PKL_PATH, 'rb')\n",
    "ncd_metadata = pickle.load(file)\n",
    "file.close()"
   ]
  },
  {
   "cell_type": "code",
   "execution_count": 0,
   "metadata": {
    "application/vnd.databricks.v1+cell": {
     "cellMetadata": {
      "byteLimit": 2048000,
      "rowLimit": 10000
     },
     "inputWidgets": {},
     "nuid": "07373f08-5ef4-490d-8bd9-e05bb88212e9",
     "showTitle": false,
     "tableResultSettingsMap": {},
     "title": ""
    }
   },
   "outputs": [],
   "source": [
    "lcd_articles.head()"
   ]
  },
  {
   "cell_type": "code",
   "execution_count": 0,
   "metadata": {
    "application/vnd.databricks.v1+cell": {
     "cellMetadata": {
      "byteLimit": 2048000,
      "rowLimit": 10000
     },
     "inputWidgets": {},
     "nuid": "a4d37a2a-e42e-401e-a4b3-0355403872c7",
     "showTitle": false,
     "tableResultSettingsMap": {},
     "title": ""
    }
   },
   "outputs": [],
   "source": [
    "from pyspark.sql.functions import collect_list\n",
    "lcd_jurisdictions = spark.read.format(\"delta\").table(\"sandbox_catalog.default.lcd_jurisdiction\")\n",
    "article_jurisdictions = spark.read.format(\"delta\").table(\"sandbox_catalog.default.article_jurisdiction\")\n",
    "\n",
    "lcd_jurisdictions_grouped = lcd_jurisdictions.groupBy(\"lcd_id\").agg(collect_list(\"jurisdiction_cd\").alias(\"jurisidiction_cds\"), collect_list(\"contract_number\").alias(\"contract_numbers\")).toPandas()\n",
    "article_jurisdictions_grouped = article_jurisdictions.groupBy(\"article_id\").agg(collect_list(\"jurisdiction_cd\").alias(\"jurisidiction_cds\"), collect_list(\"contract_number\").alias(\"contract_numbers\")).toPandas()"
   ]
  },
  {
   "cell_type": "code",
   "execution_count": 0,
   "metadata": {
    "application/vnd.databricks.v1+cell": {
     "cellMetadata": {
      "byteLimit": 2048000,
      "rowLimit": 10000
     },
     "inputWidgets": {},
     "nuid": "9c9cd15c-096b-4545-af0c-e38f375ac65b",
     "showTitle": false,
     "tableResultSettingsMap": {},
     "title": ""
    }
   },
   "outputs": [],
   "source": [
    "lcd['document_id'] = pd.to_numeric(lcd['document_id'])\n",
    "lcd_articles['document_id'] = pd.to_numeric(lcd_articles['document_id'])\n",
    "lcd = lcd.merge(lcd_jurisdictions_grouped, left_on=\"document_id\", right_on=\"lcd_id\")\n",
    "lcd_articles = lcd_articles.merge(article_jurisdictions_grouped, left_on=\"document_id\", right_on=\"article_id\")"
   ]
  },
  {
   "cell_type": "code",
   "execution_count": 0,
   "metadata": {
    "application/vnd.databricks.v1+cell": {
     "cellMetadata": {
      "byteLimit": 2048000,
      "rowLimit": 10000
     },
     "inputWidgets": {},
     "nuid": "0c29c4f5-7f02-4f63-9b18-0fc1c4014d72",
     "showTitle": false,
     "tableResultSettingsMap": {},
     "title": ""
    }
   },
   "outputs": [],
   "source": [
    "lcd.head()"
   ]
  },
  {
   "cell_type": "code",
   "execution_count": 0,
   "metadata": {
    "application/vnd.databricks.v1+cell": {
     "cellMetadata": {
      "byteLimit": 2048000,
      "rowLimit": 10000
     },
     "inputWidgets": {},
     "nuid": "d614a464-0c1f-40cc-ae64-238d94a73db8",
     "showTitle": false,
     "tableResultSettingsMap": {},
     "title": ""
    }
   },
   "outputs": [],
   "source": [
    "def add_metadata(input_pdf, output_pdf, metadata):\n",
    "    reader = PdfReader(input_pdf)\n",
    "    writer = PdfWriter()\n",
    "    writer.append_pages_from_reader(reader)\n",
    "\n",
    "    writer.add_metadata({\n",
    "        \"/Title\": metadata.get(\"Title\", \"\"),\n",
    "        \"/Author\": metadata.get(\"Author\", \"\"),\n",
    "        \"/Subject\": metadata.get(\"Subject\", \"\"),\n",
    "        \"/Keywords\": metadata.get(\"Keywords\", \"\"),\n",
    "        \"/Creator\": metadata.get(\"Creator\", \"\"),\n",
    "        \"/Producer\": metadata.get(\"Producer\", \"\"),\n",
    "    })\n",
    "\n",
    "    with open(output_pdf, \"wb\") as f:\n",
    "        writer.write(f)\n"
   ]
  },
  {
   "cell_type": "code",
   "execution_count": 0,
   "metadata": {
    "application/vnd.databricks.v1+cell": {
     "cellMetadata": {
      "byteLimit": 2048000,
      "rowLimit": 10000
     },
     "inputWidgets": {},
     "nuid": "48431a8e-c25c-4d91-90e5-5bd8267a659d",
     "showTitle": false,
     "tableResultSettingsMap": {},
     "title": ""
    }
   },
   "outputs": [],
   "source": [
    "def format_pdf_datetime(raw_date_str, tz_offset_minutes=-240):\n",
    "    \"\"\"\n",
    "    Converts input like '20250523155244' or '2025-05-29' to PDF metadata format.\n",
    "    Returns: 'D:YYYYMMDDHHmmSS±HH'mm''\n",
    "    \"\"\"\n",
    "    raw_date_str = raw_date_str.strip()\n",
    "\n",
    "    # Try to detect format\n",
    "    if len(raw_date_str) == 14 and raw_date_str.isdigit():\n",
    "        # Format: YYYYMMDDhhmmss\n",
    "        dt = datetime.strptime(raw_date_str, \"%Y%m%d%H%M%S\")\n",
    "    elif len(raw_date_str) == 10 and '-' in raw_date_str:\n",
    "        # Format: YYYY-MM-DD\n",
    "        dt = datetime.strptime(raw_date_str, \"%Y-%m-%d\")\n",
    "        dt = dt.replace(hour=0, minute=0, second=0)\n",
    "    else:\n",
    "        raise ValueError(f\"Unsupported date format: {raw_date_str}\")\n",
    "\n",
    "    # Timezone formatting\n",
    "    offset = timedelta(minutes=tz_offset_minutes)\n",
    "    sign = '+' if tz_offset_minutes >= 0 else '-'\n",
    "    hours_offset = abs(tz_offset_minutes) // 60\n",
    "    minutes_offset = abs(tz_offset_minutes) % 60\n",
    "\n",
    "    return f\"D:{dt.strftime('%Y%m%d%H%M%S')}{sign}{hours_offset:02d}'{minutes_offset:02d}'\"\n",
    "\n",
    "def html_to_pdf(html_path, output_path, metadata):\n",
    "    with open(html_path, \"r\", encoding=\"utf-8\") as file:\n",
    "        soup = BeautifulSoup(file)\n",
    "        cleaned_html = soup.prettify()\n",
    "        buffer = BytesIO()\n",
    "        HTML(string=cleaned_html).write_pdf(buffer)\n",
    "        buffer.seek(0)\n",
    "\n",
    "        reader = PdfReader(buffer)\n",
    "        writer = PdfWriter()\n",
    "        writer.append_pages_from_reader(reader)\n",
    "        writer.add_metadata({f\"/{k}\": v for k, v in metadata.items()})\n",
    "        with open(output_path, \"wb\") as f:\n",
    "            writer.write(f)\n",
    "            \n",
    "def process_html(input_path, output_path, policy_metadata):\n",
    "    for i, line in policy_metadata.iterrows():\n",
    "        doc_id = line['document_display_id']\n",
    "        pdf_filename = f\"{output_path}/{doc_id}.pdf\"\n",
    "        html_filename = f\"{input_path}/{doc_id}.html\"\n",
    "        metadata = {\n",
    "            \"Title\": line['title'],\n",
    "            \"Author\": line['contractor_name_type'],\n",
    "            \"Subject\": f\"{line['document_type']}, Version{line['document_version']}\",\n",
    "            \"Keywords\": line['note'],\n",
    "            \"Creator\": \"GEMHTMLtoPDF\",\n",
    "            \"Producer\": \"WeasyPrint\",\n",
    "            \"CreationDate\": format_pdf_datetime(str(line['effective_date'])),\n",
    "            \"ModDate\": format_pdf_datetime(str(line['updated_on_sort']))\n",
    "        }\n",
    "        html_to_pdf(html_filename, pdf_filename, metadata)"
   ]
  },
  {
   "cell_type": "code",
   "execution_count": 0,
   "metadata": {
    "application/vnd.databricks.v1+cell": {
     "cellMetadata": {
      "byteLimit": 2048000,
      "rowLimit": 10000
     },
     "inputWidgets": {},
     "nuid": "fd1a3f5c-9e5a-4f51-b08a-8826994bc36f",
     "showTitle": false,
     "tableResultSettingsMap": {},
     "title": ""
    }
   },
   "outputs": [],
   "source": [
    "process_html(LCD_HTML_PATH, LCD_PDF_PATH, lcd)\n"
   ]
  },
  {
   "cell_type": "code",
   "execution_count": 0,
   "metadata": {
    "application/vnd.databricks.v1+cell": {
     "cellMetadata": {
      "byteLimit": 2048000,
      "rowLimit": 10000
     },
     "inputWidgets": {},
     "nuid": "d3636332-ef08-4461-a546-79366210c1df",
     "showTitle": false,
     "tableResultSettingsMap": {},
     "title": ""
    }
   },
   "outputs": [],
   "source": [
    "process_html(LCD_ARTICLES_HTML_PATH, LCD_ARTICLES_PDF_PATH, lcd_articles)"
   ]
  },
  {
   "cell_type": "code",
   "execution_count": 0,
   "metadata": {
    "application/vnd.databricks.v1+cell": {
     "cellMetadata": {
      "byteLimit": 2048000,
      "rowLimit": 10000
     },
     "inputWidgets": {},
     "nuid": "2b389c5b-f70b-441c-9458-aab9e2e21459",
     "showTitle": false,
     "tableResultSettingsMap": {},
     "title": ""
    }
   },
   "outputs": [],
   "source": [
    "ncds = pd.read_csv(\"/Volumes/sandbox_catalog/default/non-pdf-policy-docs/medicare-coverage-database/ncds/ncds.csv\")"
   ]
  },
  {
   "cell_type": "code",
   "execution_count": 0,
   "metadata": {
    "application/vnd.databricks.v1+cell": {
     "cellMetadata": {
      "byteLimit": 2048000,
      "rowLimit": 10000
     },
     "inputWidgets": {},
     "nuid": "d95d1450-0857-42bd-937d-49eff07fbb77",
     "showTitle": false,
     "tableResultSettingsMap": {},
     "title": ""
    }
   },
   "outputs": [],
   "source": [
    "ncds.head()"
   ]
  },
  {
   "cell_type": "code",
   "execution_count": 0,
   "metadata": {
    "application/vnd.databricks.v1+cell": {
     "cellMetadata": {
      "byteLimit": 2048000,
      "rowLimit": 10000
     },
     "inputWidgets": {},
     "nuid": "4846c796-4e8c-4a64-aa7c-e8270d0ba009",
     "showTitle": false,
     "tableResultSettingsMap": {},
     "title": ""
    }
   },
   "outputs": [],
   "source": [
    "ncd_metadata.head()"
   ]
  },
  {
   "cell_type": "code",
   "execution_count": 0,
   "metadata": {
    "application/vnd.databricks.v1+cell": {
     "cellMetadata": {
      "byteLimit": 2048000,
      "rowLimit": 10000
     },
     "inputWidgets": {},
     "nuid": "8f692d32-0d3f-49df-b803-4a4a902be4a6",
     "showTitle": false,
     "tableResultSettingsMap": {},
     "title": ""
    }
   },
   "outputs": [],
   "source": [
    "def create_doc_text(metadata, data):\n",
    "    text = f\"\"\"\n",
    "    <h1>{data.document_display_id} {data.title}</h1>\n",
    "    <h2>Chapter {metadata.chapter}</h2>\n",
    "    <br>Version:<br>\n",
    "    {data.document_version}\n",
    "    <br>Publication Number:<br>\n",
    "    {data.publication_number}\n",
    "    <br>Effective Date:<br>\n",
    "    {data.effective_date}\n",
    "    <br>Effective End Date:<br>\n",
    "    {data.effective_end_date}\n",
    "    <br>Implementation Date:<br>\n",
    "    {data.implementation_date}\n",
    "    <br>QR Modifier Date:<br>\n",
    "    {data.qr_modifier_date}\n",
    "    <br>Benefit Category: <br>\n",
    "    {data.benefit_category}\n",
    "    <br>Item Service Description: <br>\n",
    "    {data.item_service_description}\n",
    "    <br>Indications Limitations: <br>\n",
    "    {data.indications_limitations}\n",
    "    <br>Cross Reference: <br>\n",
    "    {data.cross_reference}\n",
    "    <br>Transmittal Number:<br>\n",
    "    {data.transmittal_number}\n",
    "    <br>Transmittal URL:<br>\n",
    "    {data.transmittal_url}\n",
    "    <small>\n",
    "    <br>Revision Histroy:<br>\n",
    "    {data.revision_history}\n",
    "    </small>\n",
    "    <br>Other Text:<br>\n",
    "    {data.other_text}\n",
    "    <br>AMA Statement:<br>\n",
    "    {data.ama_statement}\n",
    "    <br>Reasons for Denial:<br>\n",
    "    {data.reasons_for_denial}\n",
    "    \"\"\"\n",
    "    return text"
   ]
  },
  {
   "cell_type": "code",
   "execution_count": 0,
   "metadata": {
    "application/vnd.databricks.v1+cell": {
     "cellMetadata": {
      "byteLimit": 2048000,
      "rowLimit": 10000
     },
     "inputWidgets": {},
     "nuid": "584c8dc2-c1d5-41b8-a9c9-b371433eebfb",
     "showTitle": false,
     "tableResultSettingsMap": {},
     "title": ""
    }
   },
   "outputs": [],
   "source": [
    "for i, row in ncd_metadata.iterrows():\n",
    "    doc_id = row['document_display_id']\n",
    "    line_data = ncds.loc[ncds['document_display_id'] == doc_id]\n",
    "\n",
    "    pdf_filename = f\"{NCD_PDF_PATH}/ncd-{doc_id}.pdf\"\n",
    "\n",
    "    pdf_metadata = DocumentMetadata(\n",
    "        title=row['title'],\n",
    "        description=f\"{row['document_type']}, Version{row['document_version']}\",\n",
    "        authors=[\"CMS\"],\n",
    "\n",
    "    )\n",
    "\n",
    "    text = create_doc_text(row, line_data.iloc[0])\n",
    "    html_text = HTML(string=html.unescape(text))\n",
    "\n",
    "    html_text.write_pdf(pdf_filename)\n"
   ]
  },
  {
   "cell_type": "code",
   "execution_count": 0,
   "metadata": {
    "application/vnd.databricks.v1+cell": {
     "cellMetadata": {
      "byteLimit": 2048000,
      "rowLimit": 10000
     },
     "inputWidgets": {},
     "nuid": "e63b1356-ca33-4e4e-ac26-b2851b5e1948",
     "showTitle": false,
     "tableResultSettingsMap": {},
     "title": ""
    }
   },
   "outputs": [],
   "source": []
  }
 ],
 "metadata": {
  "application/vnd.databricks.v1+notebook": {
   "computePreferences": null,
   "dashboards": [],
   "environmentMetadata": {
    "base_environment": "",
    "environment_version": "2"
   },
   "inputWidgetPreferences": null,
   "language": "python",
   "notebookMetadata": {
    "mostRecentlyExecutedCommandWithImplicitDF": {
     "commandId": 7152238253586232,
     "dataframes": [
      "_sqldf"
     ]
    },
    "pythonIndentUnit": 4
   },
   "notebookName": "LCD and NCD",
   "widgets": {}
  },
  "language_info": {
   "name": "python"
  }
 },
 "nbformat": 4,
 "nbformat_minor": 0
}
