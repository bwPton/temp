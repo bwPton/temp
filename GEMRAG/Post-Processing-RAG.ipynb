{
 "cells": [
  {
   "cell_type": "code",
   "execution_count": 0,
   "metadata": {
    "application/vnd.databricks.v1+cell": {
     "cellMetadata": {
      "byteLimit": 2048000,
      "rowLimit": 10000
     },
     "inputWidgets": {},
     "nuid": "cf6f7073-265c-4779-bf1b-557142090487",
     "showTitle": false,
     "tableResultSettingsMap": {},
     "title": ""
    }
   },
   "outputs": [],
   "source": [
    "%pip install databricks-vectorsearch databricks-sdk\n",
    "%restart_python"
   ]
  },
  {
   "cell_type": "code",
   "execution_count": 0,
   "metadata": {
    "application/vnd.databricks.v1+cell": {
     "cellMetadata": {
      "byteLimit": 2048000,
      "rowLimit": 10000
     },
     "inputWidgets": {},
     "nuid": "0f418106-3a7e-4a77-9348-b4e23c00a584",
     "showTitle": false,
     "tableResultSettingsMap": {},
     "title": ""
    }
   },
   "outputs": [],
   "source": [
    "\n",
    "\n",
    "import re\n",
    "import pandas as pd\n",
    "from databricks.vector_search.client import VectorSearchClient\n",
    "from pyspark.sql import SparkSession\n",
    "from IPython.display import Markdown, display\n",
    "from vector_search_utils import create_endpoint, get_index, create_index"
   ]
  },
  {
   "cell_type": "code",
   "execution_count": 0,
   "metadata": {
    "application/vnd.databricks.v1+cell": {
     "cellMetadata": {
      "byteLimit": 2048000,
      "rowLimit": 10000
     },
     "inputWidgets": {},
     "nuid": "5dd7d472-8ebe-47b7-a6bd-2d27d9d44d58",
     "showTitle": false,
     "tableResultSettingsMap": {},
     "title": ""
    }
   },
   "outputs": [],
   "source": [
    "\n",
    "test_data_path = \"/Workspace/Users/benjamin.wynn@peraton.com/GlobalEditsModel/testing/testing_data.csv\"\n",
    "n_results=20\n",
    "search_type=\"HYBRID\"\n",
    "endpoint_name=\"global-edits-policy-search\"\n",
    "index_name=\"sandbox_catalog.default.gem_text_index\"\n",
    "embedding_endpoint=\"global-edits-embeddings\"\n",
    "primary_key=\"chunk_id\"\n",
    "source_column=\"text\"\n",
    "indexed_columns=[\"chunk_id\", \"text\", \"doc_title\", \"title\",\"chapter_title\",\"hcpcs_codes\",\"cpt\",\"icd10\",\"modifiers\",\"hcpcs_descriptions\", \"cpt_descriptions\", \"icd10_descriptions\", \"modifier_descriptions\"]\n"
   ]
  },
  {
   "cell_type": "code",
   "execution_count": 0,
   "metadata": {
    "application/vnd.databricks.v1+cell": {
     "cellMetadata": {
      "byteLimit": 2048000,
      "rowLimit": 10000
     },
     "inputWidgets": {},
     "nuid": "5cd70151-3052-4e6a-86a7-6c7fc78f6f65",
     "showTitle": false,
     "tableResultSettingsMap": {},
     "title": ""
    }
   },
   "outputs": [],
   "source": [
    "client = VectorSearchClient(disable_notice=True)\n",
    "create_endpoint(client, endpoint_name)\n",
    "index = create_index(\n",
    "    client,\n",
    "    endpoint_name,\n",
    "    index_name,\n",
    "    \"sandbox_catalog.default.gem_text\",\n",
    "    primary_key,\n",
    "    source_column,\n",
    "    indexed_columns,\n",
    "    embedding_endpoint\n",
    ")"
   ]
  },
  {
   "cell_type": "code",
   "execution_count": 0,
   "metadata": {
    "application/vnd.databricks.v1+cell": {
     "cellMetadata": {
      "byteLimit": 2048000,
      "rowLimit": 10000
     },
     "inputWidgets": {},
     "nuid": "1108b488-1b3c-47dc-ab19-1ab0ee872312",
     "showTitle": false,
     "tableResultSettingsMap": {},
     "title": ""
    }
   },
   "outputs": [],
   "source": [
    "def remove_empty_cols(row, columns):\n",
    "    columns_to_drop = row[(row.isna()) | (row == \"\")].index\n",
    "    remaining_columns = claim_lines.columns.difference(columns_to_drop)\n",
    "    return row.drop(columns_to_drop), remaining_columns\n",
    "\n",
    "def construct_query(row, columns):\n",
    "    updated_row, updated_columns = remove_empty_cols(row, columns)\n",
    "    \n",
    "    ret_str = \"\"\n",
    "    for i in range(0, len(columns)):\n",
    "        ret_str += f\"{columns[i]} {row[columns[i]]}, \"\n",
    "    return re.sub(r'[^\\w\\s]', '', ret_str)\n",
    "\n",
    "\n",
    "# query_text = construct_query(row, cols)"
   ]
  },
  {
   "cell_type": "code",
   "execution_count": 0,
   "metadata": {
    "application/vnd.databricks.v1+cell": {
     "cellMetadata": {
      "byteLimit": 2048000,
      "rowLimit": 10000
     },
     "inputWidgets": {},
     "nuid": "dc10db85-b336-4264-a2c7-05aad4301a4e",
     "showTitle": false,
     "tableResultSettingsMap": {},
     "title": ""
    }
   },
   "outputs": [],
   "source": [
    "test_df = pd.read_csv(test_data_path, index_col=0)\n",
    "policy = test_df[\"policy\"]\n",
    "claim_lines = test_df.drop(columns=\"policy\")\n",
    "\n",
    "results_list = []\n",
    "total = claim_lines.shape[0]"
   ]
  },
  {
   "cell_type": "code",
   "execution_count": 0,
   "metadata": {
    "application/vnd.databricks.v1+cell": {
     "cellMetadata": {
      "byteLimit": 2048000,
      "rowLimit": 10000
     },
     "inputWidgets": {},
     "nuid": "509e9718-e47a-419d-a8b8-288e46a72cb3",
     "showTitle": false,
     "tableResultSettingsMap": {},
     "title": ""
    }
   },
   "outputs": [],
   "source": [
    "last_percent = -1\n",
    "cols = claim_lines.columns\n",
    "\n",
    "for i, row in claim_lines.iterrows():\n",
    "    if i > 2:\n",
    "        break\n",
    "    percent = int((i / total) * 100)\n",
    "    if percent != last_percent and percent % 5 == 0:\n",
    "        print(f\"Progress: {percent}%\")\n",
    "        last_percent = percent\n",
    "\n",
    "    query_text = construct_query(row, cols)\n",
    "    response = index.similarity_search(\n",
    "        query_text=query_text,\n",
    "        columns=indexed_columns,\n",
    "        num_results=n_results,\n",
    "        query_type=search_type,\n",
    "        disable_notice=True\n",
    "    )\n",
    "\n",
    "    manifest = response.get(\"manifest\", {}).get(\"columns\", [])\n",
    "    raw_results = response.get(\"result\", {}).get(\"data_array\", [])\n",
    "\n",
    "    results = raw_results[:n_results]\n",
    "    columns = [col.get(\"name\") for col in manifest]\n",
    "    df = pd.DataFrame(results, columns=columns)\n",
    "    \n",
    "    for _, match_row in df.iterrows():\n",
    "        result_entry = {\n",
    "            \"claim_id\": row[\"claim_id\"],\n",
    "            **match_row.to_dict()\n",
    "        }\n",
    "        results_list.append(result_entry)\n"
   ]
  },
  {
   "cell_type": "code",
   "execution_count": 0,
   "metadata": {
    "application/vnd.databricks.v1+cell": {
     "cellMetadata": {
      "byteLimit": 2048000,
      "rowLimit": 10000
     },
     "inputWidgets": {},
     "nuid": "4d7ee1af-89e4-4098-bc52-ed1c7330af83",
     "showTitle": false,
     "tableResultSettingsMap": {},
     "title": ""
    }
   },
   "outputs": [],
   "source": [
    "results_df = pd.DataFrame(results_list)\n",
    "results_df.head()\n",
    "grouped = results_df.groupby(\"claim_id\").agg(list)"
   ]
  },
  {
   "cell_type": "code",
   "execution_count": 0,
   "metadata": {
    "application/vnd.databricks.v1+cell": {
     "cellMetadata": {
      "byteLimit": 2048000,
      "rowLimit": 10000
     },
     "inputWidgets": {},
     "nuid": "8334b03a-86a9-4895-9b88-79e28797789d",
     "showTitle": false,
     "tableResultSettingsMap": {},
     "title": ""
    }
   },
   "outputs": [],
   "source": [
    "test_df.head()"
   ]
  },
  {
   "cell_type": "code",
   "execution_count": 0,
   "metadata": {
    "application/vnd.databricks.v1+cell": {
     "cellMetadata": {
      "byteLimit": 2048000,
      "rowLimit": 10000
     },
     "inputWidgets": {},
     "nuid": "3fa47d8c-2175-412c-a70b-1a8ff1cb129c",
     "showTitle": false,
     "tableResultSettingsMap": {},
     "title": ""
    }
   },
   "outputs": [],
   "source": [
    "joined_df = pd.merge(test_df, grouped, on=\"claim_id\", how=\"inner\")\n",
    "joined_df.head()"
   ]
  },
  {
   "cell_type": "code",
   "execution_count": 0,
   "metadata": {
    "application/vnd.databricks.v1+cell": {
     "cellMetadata": {
      "byteLimit": 2048000,
      "rowLimit": 10000
     },
     "inputWidgets": {},
     "nuid": "0fff3737-3916-482a-befa-47dd97806c07",
     "showTitle": false,
     "tableResultSettingsMap": {},
     "title": ""
    }
   },
   "outputs": [],
   "source": [
    "claim_line = joined_df.iloc[0]\n",
    "docs = claim_line[\"text\"]\n",
    "similarity_score = claim_line[\"score\"]\n",
    "joined_docs = \"\\n\\n---\\n\\n\".join(\n",
    "    f\"Document {i+1} (Similarity: {similarity_score[i]}):\\n{doc} \" for i, doc in enumerate(docs)\n",
    ")"
   ]
  },
  {
   "cell_type": "code",
   "execution_count": 0,
   "metadata": {
    "application/vnd.databricks.v1+cell": {
     "cellMetadata": {
      "byteLimit": 2048000,
      "rowLimit": 10000
     },
     "inputWidgets": {},
     "nuid": "f8605bea-e6c4-4716-bf25-d27478fb2859",
     "showTitle": false,
     "tableResultSettingsMap": {},
     "title": ""
    }
   },
   "outputs": [],
   "source": [
    "with open('/Workspace/Users/benjamin.wynn@peraton.com/GlobalEditsModel/testing/test_policy/fps88_policy.md', 'r', encoding='utf-8') as file:\n",
    "    fps88_policy = file.read()\n",
    "with open('/Workspace/Users/benjamin.wynn@peraton.com/GlobalEditsModel/testing/test_policy/fps17_policy.md', 'r', encoding='utf-8') as file:\n",
    "    fps17_policy = file.read()"
   ]
  },
  {
   "cell_type": "code",
   "execution_count": 0,
   "metadata": {
    "application/vnd.databricks.v1+cell": {
     "cellMetadata": {
      "byteLimit": 2048000,
      "rowLimit": 10000
     },
     "inputWidgets": {},
     "nuid": "8461c018-c21e-4237-b1d0-fa86e56d6502",
     "showTitle": false,
     "tableResultSettingsMap": {},
     "title": ""
    }
   },
   "outputs": [],
   "source": [
    "claim_line['modifier_descriptions'] = claim_line['modifier_descriptions_x']\n",
    "claim_line['modifiers'] = claim_line['modifiers_x']\n",
    "claim_line_query = construct_query(claim_line, cols)\n",
    "print(claim_line_query)"
   ]
  },
  {
   "cell_type": "code",
   "execution_count": 0,
   "metadata": {
    "application/vnd.databricks.v1+cell": {
     "cellMetadata": {
      "byteLimit": 2048000,
      "rowLimit": 10000
     },
     "inputWidgets": {},
     "nuid": "cdf0a8c2-f5e4-413f-a0d1-719acd481340",
     "showTitle": false,
     "tableResultSettingsMap": {},
     "title": ""
    }
   },
   "outputs": [],
   "source": [
    "from openai import OpenAI\n",
    "import os\n",
    "\n",
    "# DATABRICKS_TOKEN = os.environ.get('DATABRICKS_TOKEN')\n",
    "# Alternatively in a Databricks notebook you can use this:\n",
    "DATABRICKS_TOKEN = dbutils.notebook.entry_point.getDbutils().notebook().getContext().apiToken().get()\n",
    "\n",
    "client = OpenAI(\n",
    "  api_key=DATABRICKS_TOKEN,\n",
    "  base_url=\"https://cms-fps-dev-sandbox.cloud.databricks.com/serving-endpoints\"\n",
    ")\n",
    "summarizer_prompt = \"\"\"\n",
    "    Role: You are a medical-policy claim summarizer.\n",
    "    Goal: Given one or more policy documents (PDF, DOCX, or plain text), produce a concise, structured summary that a claims-processing system can ingest.\n",
    "    Scope of work (follow in order):\n",
    "\n",
    "    Pre-clean the text – remove headers/footers, boiler-plate disclaimers, revision histories, and marketing language.\n",
    "\n",
    "    Locate policy requirements – isolate all statements that (a) set coverage conditions, (b) list exclusions, or (c) reference billing codes/modifiers. Ignore narrative background and clinical rationale unless it changes adjudication logic.\n",
    "\n",
    "    Extract decision rules – for every distinct service, supply, or scenario, determine whether a claim **must be ACCEPTED or DENIED, and specify the exact conditions that trigger that outcome.\n",
    "\n",
    "    Capture billing details – whenever a CPT, HCPCS, ICD-10-CM/PCS code, or modifier is mentioned, embed it inline with its rule and describe when it applies (e.g., “Use modifier 26 when…”).\n",
    "\n",
    "    Highlight exceptions & frequency limits\"\"\"\n",
    "\n",
    "chat_completion = client.chat.completions.create(\n",
    "  messages=[\n",
    "  {\n",
    "    \"role\": \"system\",\n",
    "    \"content\": summarizer_prompt\n",
    "  },\n",
    "  {\n",
    "      \"role\": \"user\",\n",
    "      \"content\": f\"Use the following policy summarization as a guide. This is a separate policy do not include any information from this policy when summarizing the provided policy: {fps88_policy}\"\n",
    "  },\n",
    "  {\n",
    "    \"role\": \"user\",\n",
    "    \"content\": f\"Read the following documents and produce a strict list of requirements and rules for processing claims: {joined_docs}\"\n",
    "  }\n",
    "  ],\n",
    "  model=\"summarizationTesting\"\n",
    ")\n",
    "\n",
    "output_policy = chat_completion.choices[0].message.content\n",
    "print(output_policy)"
   ]
  },
  {
   "cell_type": "code",
   "execution_count": 0,
   "metadata": {
    "application/vnd.databricks.v1+cell": {
     "cellMetadata": {
      "byteLimit": 2048000,
      "rowLimit": 10000
     },
     "inputWidgets": {},
     "nuid": "6415bd67-d179-49be-bd6c-b1a47e70fe31",
     "showTitle": false,
     "tableResultSettingsMap": {},
     "title": ""
    }
   },
   "outputs": [],
   "source": [
    "chunk_ids = joined_df.iloc[0]['chunk_id']\n",
    "scores = joined_df.iloc[0]['score']\n",
    "for i in range(20):\n",
    "    print(f\"Chunk_id {chunk_ids[i]}\")\n",
    "    print(f\"Score {scores[i]}\")"
   ]
  },
  {
   "cell_type": "code",
   "execution_count": 0,
   "metadata": {
    "application/vnd.databricks.v1+cell": {
     "cellMetadata": {
      "byteLimit": 2048000,
      "rowLimit": 10000
     },
     "inputWidgets": {},
     "nuid": "5f825b3e-0dd4-40bc-bbe9-19f5a48e3191",
     "showTitle": false,
     "tableResultSettingsMap": {},
     "title": ""
    }
   },
   "outputs": [],
   "source": [
    "joined_df.iloc[0]['chunk_id']"
   ]
  },
  {
   "cell_type": "code",
   "execution_count": 0,
   "metadata": {
    "application/vnd.databricks.v1+cell": {
     "cellMetadata": {
      "byteLimit": 2048000,
      "rowLimit": 10000
     },
     "inputWidgets": {},
     "nuid": "37cef58c-1240-49ba-91d7-478ba27de7a6",
     "showTitle": false,
     "tableResultSettingsMap": {},
     "title": ""
    }
   },
   "outputs": [],
   "source": [
    "import matplotlib.pyplot as plt\n",
    "fps_17_lines = joined_df[joined_df['edit'] == 17]\n",
    "chunks = [chunk_id for chunk_list in joined_df['chunk_id'] for chunk_id in chunk_list]\n",
    "plt.figure(figsize=(8, 5))\n",
    "plt.hist(chunks, bins=100, edgecolor='black')\n",
    "plt.title(\"Histogram of Chunk IDs Found\")\n",
    "plt.xlabel(\"Chunk ID Buckets\")\n",
    "plt.ylabel(\"Frequency\")\n",
    "plt.grid(True)\n",
    "plt.show()"
   ]
  },
  {
   "cell_type": "code",
   "execution_count": 0,
   "metadata": {
    "application/vnd.databricks.v1+cell": {
     "cellMetadata": {
      "byteLimit": 2048000,
      "implicitDf": true,
      "rowLimit": 10000
     },
     "inputWidgets": {},
     "nuid": "5d8718a2-34c3-4a30-aeca-f232eb8dada8",
     "showTitle": false,
     "tableResultSettingsMap": {},
     "title": ""
    }
   },
   "outputs": [],
   "source": [
    "%sql\n",
    "SELECT * FROM sandbox_catalog.default.gem_text WHERE chunk_id=1775.0"
   ]
  },
  {
   "cell_type": "code",
   "execution_count": 0,
   "metadata": {
    "application/vnd.databricks.v1+cell": {
     "cellMetadata": {
      "byteLimit": 2048000,
      "rowLimit": 10000
     },
     "inputWidgets": {},
     "nuid": "4106972f-5be2-4eac-be50-854a2461e940",
     "showTitle": false,
     "tableResultSettingsMap": {},
     "title": ""
    }
   },
   "outputs": [],
   "source": [
    "claim_line_query"
   ]
  },
  {
   "cell_type": "code",
   "execution_count": 0,
   "metadata": {
    "application/vnd.databricks.v1+cell": {
     "cellMetadata": {
      "byteLimit": 2048000,
      "rowLimit": 10000
     },
     "inputWidgets": {},
     "nuid": "adb187be-6a40-4cb3-9507-80613ad95bfb",
     "showTitle": false,
     "tableResultSettingsMap": {},
     "title": ""
    }
   },
   "outputs": [],
   "source": [
    "comparison_prompt = \"\"\"\n",
    "Role: Policy-summary compliance & claim-readiness evaluator\n",
    "\n",
    "Inputs (always supplied):\n",
    "\n",
    "reference_summary – authoritative policy summary (ground truth).\n",
    "\n",
    "candidate_summary – summary generated by another model.\n",
    "\n",
    "summarization_prompt – original prompt used to create candidate_summary.\n",
    "\n",
    "claim_line – the claim (service code + modifiers + context) that must be adjudicated with the summary.\n",
    "\n",
    "Objectives (in priority order):\n",
    "\n",
    "Content fidelity check – confirm that candidate_summary reproduces all substantive facts in reference_summary (coverage rules, exclusions, billing codes/modifiers, frequency limits, exceptions, and accept/deny criteria) and introduces no new or conflicting facts.\n",
    "\n",
    "Claim readiness check – decide whether the information in candidate_summary is sufficient to adjudicate claim_line. Do not use the fidelity check. Analyze the claim_line using both candidate_summary and reference_summary to determine whether the candidate_summary is just as sufficient to adjudicate the claim as the reference_summary\n",
    "\n",
    "Gap analysis – list any extra data elements required to process claim_line that are missing from candidate_summary.\n",
    "\n",
    "Prompt improvement – suggest one concrete rewrite of summarization_prompt that would have prevented the detected issues.\n",
    "\n",
    "Ignore completely:\n",
    "• Formatting/style differences (tables vs bullets, section order, headings, line breaks).\n",
    "• Wording changes that leave meaning intact.\n",
    "\n",
    "Evaluation procedure:\n",
    "\n",
    "Read reference_summary and create a checklist of every discrete factual assertion (codes, conditions, limits, exceptions, outcomes).\n",
    "\n",
    "Examine candidate_summary and note where each checklist item is present, missing, or mis-stated.\n",
    "\n",
    "Flag any hallucinated facts present in candidate_summary but absent from reference_summary.\n",
    "\n",
    "Using the accepted/denied logic and billing details in candidate_summary, simulate adjudication of claim_line:\n",
    "• If all required variables are supplied by the policy, mark it processable. \n",
    "• Otherwise, list what the policy lacks in terms of details to process claim_line. If claim_line is missing data see if the policy addresses the missing data.\n",
    "\n",
    "Draft a single tightened version of summarization_prompt that would likely have produced a fully accurate, claim-ready summary.\n",
    "\n",
    "Output (strict JSON, no extra keys):\n",
    "\n",
    "{\n",
    "  \"verdict\": \"PASS\" | \"FAIL\",\n",
    "  \"missing_facts\": [\"<brief description>\", \"...\"],\n",
    "  \"incorrect_facts\": [\"<brief description>\", \"...\"],\n",
    "  \"hallucinated_facts\": [\"<brief description>\", \"...\"],\n",
    "  \"claim_processable\": true | false,\n",
    "  \"additional_info_required\": [\"<data element>\", \"...\"],\n",
    "  \"comments\": \"<≤100-word free-text note>\",\n",
    "  \"improved_prompt\": \"<single revised prompt>\"\n",
    "}\n",
    "Set verdict to PASS only when there are no missing, incorrect, or hallucinated facts and claim_processable is true.\n",
    "\"\"\"\n",
    "chat_completion = client.chat.completions.create(\n",
    "  messages=[\n",
    "  {\n",
    "    \"role\": \"system\",\n",
    "    \"content\": comparison_prompt\n",
    "  },\n",
    "  {\n",
    "      \"role\": \"user\",\n",
    "      \"content\": f\"reference_summary: {fps17_policy}\"\n",
    "  },\n",
    "  {\n",
    "    \"role\": \"user\",\n",
    "    \"content\": f\"candidate_summary: {output_policy}\"\n",
    "  }, {\n",
    "      \"role\": \"user\",\n",
    "      \"content\": f\"summarization_prompt: {summarizer_prompt}\"\n",
    "  }, {\n",
    "      \"role\": \"user\",\n",
    "      \"content\": f\"\"\"\n",
    "claim_line: {claim_line_query}\n",
    "\"\"\"\n",
    "  }\n",
    "\n",
    "  ],\n",
    "  model=\"summarizationTesting\"\n",
    ")\n",
    "\n",
    "print(chat_completion.choices[0].message.content)"
   ]
  },
  {
   "cell_type": "code",
   "execution_count": 0,
   "metadata": {
    "application/vnd.databricks.v1+cell": {
     "cellMetadata": {
      "byteLimit": 2048000,
      "rowLimit": 10000
     },
     "inputWidgets": {},
     "nuid": "15f453ef-6a94-4437-9080-c27c17e0dd1f",
     "showTitle": false,
     "tableResultSettingsMap": {},
     "title": ""
    }
   },
   "outputs": [],
   "source": [
    "claim_line"
   ]
  },
  {
   "cell_type": "code",
   "execution_count": 0,
   "metadata": {
    "application/vnd.databricks.v1+cell": {
     "cellMetadata": {
      "byteLimit": 2048000,
      "rowLimit": 10000
     },
     "inputWidgets": {},
     "nuid": "be3f20c4-271a-402b-b0cb-baa4dec0f52a",
     "showTitle": false,
     "tableResultSettingsMap": {},
     "title": ""
    }
   },
   "outputs": [],
   "source": []
  }
 ],
 "metadata": {
  "application/vnd.databricks.v1+notebook": {
   "computePreferences": null,
   "dashboards": [],
   "environmentMetadata": {
    "base_environment": "",
    "environment_version": "2"
   },
   "inputWidgetPreferences": null,
   "language": "python",
   "notebookMetadata": {
    "mostRecentlyExecutedCommandWithImplicitDF": {
     "commandId": 7400744020459084,
     "dataframes": [
      "_sqldf"
     ]
    },
    "pythonIndentUnit": 4
   },
   "notebookName": "Post-Processing-RAG",
   "widgets": {}
  },
  "language_info": {
   "name": "python"
  }
 },
 "nbformat": 4,
 "nbformat_minor": 0
}
